{
 "cells": [
  {
   "cell_type": "markdown",
   "metadata": {},
   "source": [
    "# Collaboration and Competition\n",
    "\n",
    "---\n",
    "\n",
    "In this notebook, you will learn how to use the Unity ML-Agents environment for the third project of the [Deep Reinforcement Learning Nanodegree](https://www.udacity.com/course/deep-reinforcement-learning-nanodegree--nd893) program.\n",
    "\n",
    "### 1. Start the Environment\n",
    "\n",
    "We begin by importing the necessary packages.  If the code cell below returns an error, please revisit the project instructions to double-check that you have installed [Unity ML-Agents](https://github.com/Unity-Technologies/ml-agents/blob/master/docs/Installation.md) and [NumPy](http://www.numpy.org/)."
   ]
  },
  {
   "cell_type": "code",
   "execution_count": 1,
   "metadata": {},
   "outputs": [
    {
     "name": "stderr",
     "output_type": "stream",
     "text": [
      "/home/akio/.pyenv/versions/3.6.12/envs/drlnd/lib/python3.6/site-packages/pandas/compat/__init__.py:120: UserWarning: Could not import the lzma module. Your installed Python is incomplete. Attempting to use lzma compression will result in a RuntimeError.\n",
      "  warnings.warn(msg)\n"
     ]
    }
   ],
   "source": [
    "import os\n",
    "import time\n",
    "from collections import deque\n",
    "from dataclasses import asdict\n",
    "\n",
    "from unityagents import UnityEnvironment\n",
    "import mlflow\n",
    "import numpy as np\n",
    "import torch\n",
    "\n",
    "from agents import MultiAgentDDPG\n",
    "from experiment import RunExperiments, RunConfig"
   ]
  },
  {
   "cell_type": "markdown",
   "metadata": {},
   "source": [
    "Next, we will start the environment!  **_Before running the code cell below_**, change the `file_name` parameter to match the location of the Unity environment that you downloaded.\n",
    "\n",
    "- **Mac**: `\"path/to/Tennis.app\"`\n",
    "- **Windows** (x86): `\"path/to/Tennis_Windows_x86/Tennis.exe\"`\n",
    "- **Windows** (x86_64): `\"path/to/Tennis_Windows_x86_64/Tennis.exe\"`\n",
    "- **Linux** (x86): `\"path/to/Tennis_Linux/Tennis.x86\"`\n",
    "- **Linux** (x86_64): `\"path/to/Tennis_Linux/Tennis.x86_64\"`\n",
    "- **Linux** (x86, headless): `\"path/to/Tennis_Linux_NoVis/Tennis.x86\"`\n",
    "- **Linux** (x86_64, headless): `\"path/to/Tennis_Linux_NoVis/Tennis.x86_64\"`\n",
    "\n",
    "For instance, if you are using a Mac, then you downloaded `Tennis.app`.  If this file is in the same folder as the notebook, then the line below should appear as follows:\n",
    "```\n",
    "env = UnityEnvironment(file_name=\"Tennis.app\")\n",
    "```"
   ]
  },
  {
   "cell_type": "code",
   "execution_count": 2,
   "metadata": {},
   "outputs": [],
   "source": [
    "# Global constants for the project.\n",
    "# Number of episodes to train all agents.\n",
    "NUM_EPISODES = 5000\n",
    "\n",
    "# Consecutive runs to average the scores.\n",
    "RESULT_WINDOW = 100\n",
    "\n",
    "# Minimum average score over the window to complete the project.\n",
    "MIN_AVERAGE_SCORE = 0.5"
   ]
  },
  {
   "cell_type": "code",
   "execution_count": 3,
   "metadata": {},
   "outputs": [],
   "source": [
    "experiments_to_run = RunExperiments(\n",
    "    learn_steps=[1, 2, 4],\n",
    "    sync_steps=[8, 16, 32],\n",
    "    batch_sizes=[32, 64],\n",
    "    gammas=[0.98, 0.99],\n",
    "    epsilon_decays=[0.997, 0.999]\n",
    ")\n",
    "NUM_EXPERIMENTS = 8"
   ]
  },
  {
   "cell_type": "code",
   "execution_count": 4,
   "metadata": {},
   "outputs": [
    {
     "name": "stderr",
     "output_type": "stream",
     "text": [
      "INFO:unityagents:\n",
      "'Academy' started successfully!\n",
      "Unity Academy name: Academy\n",
      "        Number of Brains: 1\n",
      "        Number of External Brains : 1\n",
      "        Lesson number : 0\n",
      "        Reset Parameters :\n",
      "\t\t\n",
      "Unity brain name: TennisBrain\n",
      "        Number of Visual Observations (per agent): 0\n",
      "        Vector Observation space type: continuous\n",
      "        Vector Observation space size (per agent): 8\n",
      "        Number of stacked Vector Observation: 3\n",
      "        Vector Action space type: continuous\n",
      "        Vector Action space size (per agent): 2\n",
      "        Vector Action descriptions: , \n"
     ]
    }
   ],
   "source": [
    "env = UnityEnvironment(file_name=\"./Tennis_Linux/Tennis.x86_64\")"
   ]
  },
  {
   "cell_type": "markdown",
   "metadata": {},
   "source": [
    "Environments contain **_brains_** which are responsible for deciding the actions of their associated agents. Here we check for the first brain available, and set it as the default brain we will be controlling from Python."
   ]
  },
  {
   "cell_type": "code",
   "execution_count": 5,
   "metadata": {},
   "outputs": [],
   "source": [
    "# get the default brain\n",
    "brain_name = env.brain_names[0]\n",
    "brain = env.brains[brain_name]"
   ]
  },
  {
   "cell_type": "markdown",
   "metadata": {},
   "source": [
    "### 2. Examine the State and Action Spaces\n",
    "\n",
    "In this environment, two agents control rackets to bounce a ball over a net. If an agent hits the ball over the net, it receives a reward of +0.1.  If an agent lets a ball hit the ground or hits the ball out of bounds, it receives a reward of -0.01.  Thus, the goal of each agent is to keep the ball in play.\n",
    "\n",
    "The observation space consists of 8 variables corresponding to the position and velocity of the ball and racket. Two continuous actions are available, corresponding to movement toward (or away from) the net, and jumping. \n",
    "\n",
    "Run the code cell below to print some information about the environment."
   ]
  },
  {
   "cell_type": "code",
   "execution_count": 6,
   "metadata": {},
   "outputs": [
    {
     "name": "stdout",
     "output_type": "stream",
     "text": [
      "Number of agents: 2\n",
      "Size of each action: 2\n",
      "There are 2 agents. Each observes a state with length: 24\n",
      "The state for the first agent looks like: [ 0.          0.          0.          0.          0.          0.\n",
      "  0.          0.          0.          0.          0.          0.\n",
      "  0.          0.          0.          0.         -6.65278625 -1.5\n",
      " -0.          0.          6.83172083  6.         -0.          0.        ]\n"
     ]
    }
   ],
   "source": [
    "# reset the environment\n",
    "env_info = env.reset(train_mode=True)[brain_name]\n",
    "\n",
    "# number of agents \n",
    "num_agents = len(env_info.agents)\n",
    "print('Number of agents:', num_agents)\n",
    "\n",
    "# size of each action\n",
    "action_size = brain.vector_action_space_size\n",
    "print('Size of each action:', action_size)\n",
    "\n",
    "# examine the state space \n",
    "states = env_info.vector_observations\n",
    "state_size = states.shape[1]\n",
    "print('There are {} agents. Each observes a state with length: {}'.format(states.shape[0], state_size))\n",
    "print('The state for the first agent looks like:', states[0])"
   ]
  },
  {
   "cell_type": "code",
   "execution_count": 7,
   "metadata": {},
   "outputs": [],
   "source": [
    "def train(num_episodes, env, agent):\n",
    "    all_scores = []\n",
    "    score_window = deque(maxlen=RESULT_WINDOW)\n",
    "    solved = False\n",
    "    best_mean_score = 0\n",
    "    \n",
    "    for episode_i in range(num_episodes):\n",
    "        env_info = env.reset(train_mode=True)[brain_name]      # Reset the environment    \n",
    "        states = env_info.vector_observations                  # Get the current state (for each agent)\n",
    "        scores = np.zeros(num_agents)                          # Initialize the score (for each agent)\n",
    "        done = False\n",
    "\n",
    "        while not done:\n",
    "            actions = agent.act(states)\n",
    "            env_info = env.step(actions)[brain_name]           # Send all actions to tne environment\n",
    "            next_states = env_info.vector_observations         # Get next state (for each agent)\n",
    "            rewards = env_info.rewards                         # Get reward (for each agent)\n",
    "            dones = env_info.local_done                        # See if episode finished\n",
    "\n",
    "            agent.step(states, actions, rewards, next_states, dones)\n",
    "\n",
    "            states = next_states                               # Roll over states to next time step\n",
    "            scores += env_info.rewards                         # Update the score (for each agent)\n",
    "            \n",
    "            if np.any(dones):                                  # Exit loop if episode finished\n",
    "                done = True\n",
    "        \n",
    "        agent.episode_finished()\n",
    "        max_score = np.max(scores)\n",
    "        score_window.append(max_score)\n",
    "        all_scores.append(max_score)\n",
    "        \n",
    "        current_mean = np.mean(score_window)\n",
    "        if current_mean >= MIN_AVERAGE_SCORE:\n",
    "            solved = True\n",
    "        \n",
    "        if current_mean > best_mean_score:\n",
    "            best_mean_score = current_mean\n",
    "        mlflow.log_metric(\"current_mean\", current_mean, step=episode_i)\n",
    "        mlflow.log_metric(\"current_epsilon\", agent.agents[0].epsilon, step=episode_i)\n",
    "        print(f\"\\r  Current mean score on episode {episode_i}: {current_mean}\", end=\"\")\n",
    "        \n",
    "    return all_scores, solved, best_mean_score, current_mean"
   ]
  },
  {
   "cell_type": "markdown",
   "metadata": {},
   "source": [
    "### 3. Take Random Actions in the Environment\n",
    "\n",
    "In the next code cell, you will learn how to use the Python API to control the agents and receive feedback from the environment.\n",
    "\n",
    "Once this cell is executed, you will watch the agents' performance, if they select actions at random with each time step.  A window should pop up that allows you to observe the agents.\n",
    "\n",
    "Of course, as part of the project, you'll have to change the code so that the agents are able to use their experiences to gradually choose better actions when interacting with the environment!"
   ]
  },
  {
   "cell_type": "code",
   "execution_count": null,
   "metadata": {},
   "outputs": [
    {
     "name": "stdout",
     "output_type": "stream",
     "text": [
      "Running experiment 0 with config: RunConfig(learn_step=1, sync_step=8, batch_size=32, gamma=0.99, epsilon_decay=0.999)\n",
      "  Current mean score on episode 3372: 0.009000000171363354"
     ]
    }
   ],
   "source": [
    "%%time\n",
    "\n",
    "experiment_scores = {}\n",
    "mlflow.set_experiment(\"tennis-maddpg\")\n",
    "for i, config in enumerate(experiments_to_run.get_configs(NUM_EXPERIMENTS)):\n",
    "    with mlflow.start_run(run_name=f\"Config {i}\"):\n",
    "        start_time = time.time()\n",
    "        print(f\"Running experiment {i} with config: {config}\")\n",
    "        mlflow.log_params(asdict(config))\n",
    "        \n",
    "        agent = MultiAgentDDPG(\n",
    "            num_agents,\n",
    "            state_size,\n",
    "            action_size,\n",
    "            gamma=config.gamma,\n",
    "            learn_step=config.learn_step,\n",
    "            sync_step=config.sync_step,\n",
    "            epsilon_decay=config.epsilon_decay,\n",
    "            batch_size=config.batch_size\n",
    "        )\n",
    "\n",
    "        scores, solved, best_mean_score, last_mean_score = train(NUM_EPISODES, env, agent)\n",
    "        experiment_scores[config] = scores\n",
    "        end_time = time.time()\n",
    "        elapsed = end_time - start_time\n",
    "        print(f\"  Ran experiment in {elapsed} seconds.\")\n",
    "        print(f\"  Best mean score of {best_mean_score}.\")\n",
    "        print(f\"  Latest mean score of {last_mean_score}.\")\n",
    "        mlflow.log_metric(\"best_mean_score\", best_mean_score)\n",
    "        mlflow.log_metric(\"last_mean_score\", last_mean_score)\n",
    "\n",
    "        if solved:\n",
    "            print(\"  Solved.\")\n",
    "            os.makedirs(f\"./models/{i}/\", exist_ok=True)\n",
    "            torch.save(agent.critic_local.state_dict(), f\"./models/{i}/critic.pth\")\n",
    "            for k, actor in enumerate(agent.agents):\n",
    "                torch.save(actor.actor_local.state_dict(), f\"./models/{i}/actor-{k}.pth\")\n",
    "            break"
   ]
  },
  {
   "cell_type": "code",
   "execution_count": null,
   "metadata": {},
   "outputs": [],
   "source": [
    "import matplotlib.pyplot as plt\n",
    "\n",
    "plt.figure(figsize=(18, 8))\n",
    "for c, scores in experiment_scores.items():\n",
    "    plt.plot(scores, label=c, alpha=0.7)\n",
    "    \n",
    "plt.title(\"Experiment Results\")\n",
    "plt.ylabel(\"Average Score\")\n",
    "plt.xlabel(\"Episode\")\n",
    "plt.legend(bbox_to_anchor=(0.5, -0.08))\n",
    "plt.grid()\n",
    "plt.show()"
   ]
  },
  {
   "cell_type": "code",
   "execution_count": null,
   "metadata": {},
   "outputs": [],
   "source": [
    "agent = MultiAgentDDPG(\n",
    "    num_agents,\n",
    "    state_size,\n",
    "    action_size,\n",
    "    epsilon_start=0.0,\n",
    "    min_epsilon=0.0)\n",
    "agent.critic_local.load_state_dict(torch.load(f\"./models/{i}/critic.pth\"))\n",
    "agent.critic_target.load_state_dict(torch.load(f\"./models/{i}/critic.pth\"))\n",
    "for k, actor in enumerate(agent.agents):\n",
    "    actor.actor_local.load_state_dict(torch.load(f\"./models/{i}/actor-{k}.pth\"))\n",
    "    actor.actor_target.load_state_dict(torch.load(f\"./models/{i}/actor-{k}.pth\"))\n",
    "\n",
    "done = False\n",
    "env_info = env.reset(train_mode=False)[brain_name]\n",
    "states = env_info.vector_observations\n",
    "final_score = np.zeros(num_agents)\n",
    "\n",
    "while not done:\n",
    "    actions = agent.act(states)\n",
    "    env_info = env.step(actions)[brain_name]\n",
    "    next_states = env_info.vector_observations\n",
    "    rewards = env_info.rewards\n",
    "    dones = env_info.local_done\n",
    "\n",
    "    states = next_states\n",
    "    final_score += env_info.rewards\n",
    "\n",
    "    if np.any(dones):\n",
    "        done = True\n",
    "\n",
    "print(f\"Final score: {final_score}\")"
   ]
  },
  {
   "cell_type": "markdown",
   "metadata": {},
   "source": [
    "When finished, you can close the environment."
   ]
  },
  {
   "cell_type": "code",
   "execution_count": null,
   "metadata": {},
   "outputs": [],
   "source": [
    "env.close()"
   ]
  },
  {
   "cell_type": "markdown",
   "metadata": {},
   "source": [
    "### 4. It's Your Turn!\n",
    "\n",
    "Now it's your turn to train your own agent to solve the environment!  When training the environment, set `train_mode=True`, so that the line for resetting the environment looks like the following:\n",
    "```python\n",
    "env_info = env.reset(train_mode=True)[brain_name]\n",
    "```"
   ]
  }
 ],
 "metadata": {
  "kernelspec": {
   "display_name": "Python 3",
   "language": "python",
   "name": "python3"
  },
  "language_info": {
   "codemirror_mode": {
    "name": "ipython",
    "version": 3
   },
   "file_extension": ".py",
   "mimetype": "text/x-python",
   "name": "python",
   "nbconvert_exporter": "python",
   "pygments_lexer": "ipython3",
   "version": "3.6.12"
  }
 },
 "nbformat": 4,
 "nbformat_minor": 4
}
